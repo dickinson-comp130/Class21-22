{
 "cells": [
  {
   "cell_type": "markdown",
   "metadata": {},
   "source": [
    "# Class 21-22 - Recursion  \n",
    "**COMP130 - Introduction to Computing**  \n",
    "**Dickinson College**  "
   ]
  },
  {
   "cell_type": "markdown",
   "metadata": {},
   "source": [
    "Functions in Python are allowed to call other functions. Our functions using the `turtle` and `graphics` modules did this frequently.  Our user defined functions regularly called built-in functions (`sqrt`, `randint`, etc).\n",
    "\n",
    "__Well a user defined function is a function, so can that function call itself?__\n",
    "\n",
    "__What in the world would happen if it did?__"
   ]
  },
  {
   "cell_type": "markdown",
   "metadata": {},
   "source": [
    "### A First Recursive Example:\n",
    "\n",
    "What is the output of the following program?  Don't over think it... just use what you know... \n",
    "\n",
    "- What happens when a function is called?\n",
    "- What does the stack diagram look like for this program?\n",
    "  - Use the `Line A and Line B` labels in the stack frames to indicate where the function was called from.  This is also where the program execution will return to when a call completes."
   ]
  },
  {
   "cell_type": "code",
   "execution_count": null,
   "metadata": {},
   "outputs": [],
   "source": [
    "def tryit():\n",
    "    print('hello')\n",
    "    tryit()           # Line B\n",
    "    \n",
    "tryit()               # Line A"
   ]
  },
  {
   "cell_type": "markdown",
   "metadata": {},
   "source": [
    "### An Almost Useful Example\n",
    "\n",
    "What is the output of this program? Try drawing a stack diagram...  \n",
    "\n",
    "Use the `Line A and Line B` labels in the stack frames to indicate where the program returns to when a call completes."
   ]
  },
  {
   "cell_type": "code",
   "execution_count": 22,
   "metadata": {},
   "outputs": [
    {
     "name": "stdout",
     "output_type": "stream",
     "text": [
      "wacky!\n",
      "wacky!\n",
      "wacky!\n"
     ]
    }
   ],
   "source": [
    "def print_text_n_times(text, n):\n",
    "    if (n==1):\n",
    "        print(text)\n",
    "    else:\n",
    "        print(text)\n",
    "        print_text_n_times(text, n-1)   # Line B\n",
    "        \n",
    "times=3\n",
    "print_text_n_times('wacky!', times)     # Line A"
   ]
  },
  {
   "cell_type": "markdown",
   "metadata": {},
   "source": [
    "![Stop sign](stop.png)\n",
    "End of Class 21 material."
   ]
  },
  {
   "cell_type": "markdown",
   "metadata": {},
   "source": [
    "### Fruitful Recursive Functions\n",
    "\n",
    "Recursive functions can be fruitful and this can make them useful for doing some computations.  Consider the problem we had of summing up all of the numbers from 1...n.  We did this with a for loop previously.  Let's see how we can think about it recursively now.\n",
    "\n",
    "One way to think about this sum is to imagine we have a function that will tell us the answer maybe `sum_1_to_n`. Then to get the sum of the numbers from 1 to 10 we would make the call `sum_1_to_n(10)`. Another way we could think about this sum is that it is `10 + sum_1_to_n(9)`.  Now, that seems a little silly... but it is actually a really clever trick that makes it easier to think about writing recursive functions.\n",
    "\n",
    "For example, consider the implementation of the `sum_1_to_n` function below:"
   ]
  },
  {
   "cell_type": "code",
   "execution_count": 27,
   "metadata": {},
   "outputs": [
    {
     "name": "stdout",
     "output_type": "stream",
     "text": [
      "6\n"
     ]
    }
   ],
   "source": [
    "def sum_1_to_n(n):\n",
    "    if n==1: \n",
    "        return 1                         # Line C\n",
    "    else:\n",
    "        sum_one_less = sum_1_to_n(n-1)   # Line B\n",
    "        return n + sum_one_less          \n",
    "\n",
    "high=3\n",
    "sum = sum_1_to_n(high)                   # Line A\n",
    "print(sum)"
   ]
  },
  {
   "cell_type": "markdown",
   "metadata": {},
   "source": [
    "### Thinking Recursively"
   ]
  },
  {
   "cell_type": "markdown",
   "metadata": {},
   "source": [
    "For many of the problems that we have looked at recursively, a solution using a `for` loop is typically easier to write and understand.  However, there are many problems where that is not the case.  The Fibonacci numbers are one such example. Recall that the first two Fibonacci numbers are 1 and then each successive Fibonacci number is the sum of the previous two.  The table below shows the first several Fibonacci numbers:\n",
    "```\n",
    "i   fibonacci(i)\n",
    "0   1\n",
    "1   1\n",
    "2   2  (1+1)\n",
    "3   3  (2+1)\n",
    "4   5  (3+2)\n",
    "5   8  (5+3)\n",
    "6   13 (8+5)\n",
    ".   .\n",
    ".   .\n",
    ".   .\n",
    "```\n",
    "\n",
    "So we can see that to compute the ith Fibonacci number we use the previous two:\n",
    "```\n",
    "fibonacci(i) = fibonacci(i-1) + fibonacci(i-2)\n",
    "```\n",
    "\n",
    "That gives us our *recursive case*.  Now we need the *base case(s)*.\n",
    "\n",
    "Well notice that if `i==0` or `i==1` then the answer is just `1`, there is no need to do any recursion. So that is a base case.\n",
    "\n",
    "We can implement this as a recursive function:"
   ]
  },
  {
   "cell_type": "code",
   "execution_count": 30,
   "metadata": {},
   "outputs": [
    {
     "name": "stdout",
     "output_type": "stream",
     "text": [
      "13\n"
     ]
    }
   ],
   "source": [
    "def fibonacci(i):\n",
    "    if (i==0) or (i==1):\n",
    "        return 1\n",
    "    else:\n",
    "        fib_m1 = fibonacci(i-1)\n",
    "        fib_m2 = fibonacci(i-2)\n",
    "        fib_i = fib_m1 + fib_m2\n",
    "        return fib_i\n",
    "    \n",
    "fib_6=fibonacci(6)\n",
    "print(fib_6)\n",
    "    "
   ]
  },
  {
   "cell_type": "markdown",
   "metadata": {},
   "source": [
    "It seem significantly less obvious how to compute this value without using recursion.  Though with a little thought you'll find you can do it. See the homework :)"
   ]
  }
 ],
 "metadata": {
  "kernelspec": {
   "display_name": "Python 3",
   "language": "python",
   "name": "python3"
  },
  "language_info": {
   "codemirror_mode": {
    "name": "ipython",
    "version": 3
   },
   "file_extension": ".py",
   "mimetype": "text/x-python",
   "name": "python",
   "nbconvert_exporter": "python",
   "pygments_lexer": "ipython3",
   "version": "3.7.3"
  }
 },
 "nbformat": 4,
 "nbformat_minor": 2
}
